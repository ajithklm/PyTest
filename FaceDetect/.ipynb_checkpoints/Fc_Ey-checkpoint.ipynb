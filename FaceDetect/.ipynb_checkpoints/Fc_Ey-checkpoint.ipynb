{
 "cells": [
  {
   "cell_type": "code",
   "execution_count": null,
   "metadata": {
    "collapsed": true
   },
   "outputs": [],
   "source": [
    "import numpy as np\n",
    "import cv2\n",
    "\n",
    "cascPath = \"haarcascade_frontalface_default.xml\"\n",
    "face_cascade = cv2.CascadeClassifier(cascPath)\n",
    "eye_cascade = cv2.CascadeClassifier('haarcascade_eye.xml')\n",
    "nose_cascade = cv2.CascadeClassifier('haarcascade_mcs_nose.xml')\n",
    "#mouth_cascade = cv2.CascadeClassifier('haarcascade_mcs_mouth.xml')\n",
    "mouth_cascade = cv2.CascadeClassifier('haarcascade_smile.xml')\n",
    "\n",
    "img = cv2.imread('g1.jpg')\n",
    "\n",
    "\n",
    "#video_capture = cv2.VideoCapture(3)\n",
    "#img = video_capture.read()\n",
    "\n",
    "gray = cv2.cvtColor(img, cv2.COLOR_BGR2GRAY)\n",
    "\n",
    "faces = face_cascade.detectMultiScale(gray, 1.3, 5)\n",
    "for (x,y,w,h) in faces:\n",
    "    cv2.rectangle(img,(x,y),(x+w,y+h),(255,0,0),2)\n",
    "    roi_gray = gray[y:y+h, x:x+w]\n",
    "    roi_color = img[y:y+h, x:x+w]\n",
    "    #cv2.imshow('roi_color',roi_color)\n",
    "    eyes = eye_cascade.detectMultiScale(roi_gray)\n",
    "    mouth = mouth_cascade.detectMultiScale(roi_gray)\n",
    "    nose = nose_cascade.detectMultiScale(roi_gray)\n",
    "    for (ex,ey,ew,eh) in eyes:\n",
    "        cv2.rectangle(roi_color,(ex,ey),(ex+ew,ey+eh),(0,255,0),2)\n",
    "    for (mx,my,mw,mh) in mouth:\n",
    "        cv2.rectangle(roi_color,(mx,my),(mx+mw,my+mh),(0,0,255),2)\n",
    "   # for (nx,ny,nw,nh) in nose:\n",
    "   #     cv2.rectangle(roi_color,(nx,ny),(nx+nw,ny+nh),(255,0,255),2)\n",
    "            \n",
    "cv2.imshow('Image',img)\n",
    "\n",
    "cv2.waitKey(0)\n",
    "cv2.destroyAllWindows()"
   ]
  },
  {
   "cell_type": "code",
   "execution_count": null,
   "metadata": {
    "collapsed": true
   },
   "outputs": [],
   "source": []
  }
 ],
 "metadata": {
  "kernelspec": {
   "display_name": "Python 3",
   "language": "python",
   "name": "python3"
  },
  "language_info": {
   "codemirror_mode": {
    "name": "ipython",
    "version": 3
   },
   "file_extension": ".py",
   "mimetype": "text/x-python",
   "name": "python",
   "nbconvert_exporter": "python",
   "pygments_lexer": "ipython3",
   "version": "3.6.1"
  }
 },
 "nbformat": 4,
 "nbformat_minor": 2
}
